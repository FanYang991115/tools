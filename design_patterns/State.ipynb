{
 "cells": [
  {
   "cell_type": "markdown",
   "metadata": {},
   "source": [
    "## State"
   ]
  },
  {
   "cell_type": "markdown",
   "metadata": {},
   "source": [
    "Allow an object to alter its behavior when its internal state changes.The object will appear to change its class."
   ]
  },
  {
   "cell_type": "code",
   "execution_count": 1,
   "metadata": {},
   "outputs": [],
   "source": [
    "from abc import ABCMeta, abstractclassmethod, abstractmethod"
   ]
  },
  {
   "cell_type": "code",
   "execution_count": 2,
   "metadata": {},
   "outputs": [],
   "source": [
    "class Context(metaclass=ABCMeta):\n",
    "\n",
    "    def __init__(self):\n",
    "        self.__states = []\n",
    "        self.__curState = None\n",
    "        self.__stateInfo = 0\n",
    "\n",
    "    def addState(self, state):\n",
    "        if (state not in self.__states):\n",
    "            self.__states.append(state)\n",
    "\n",
    "    def changeState(self, state):\n",
    "        if (state is None):\n",
    "            return False\n",
    "        if (self.__curState is None):\n",
    "            print(\"Init\", state.getName())\n",
    "        else:\n",
    "            print(\"from\", self.__curState.getName(), \"change to\", state.getName())\n",
    "        self.__curState = state\n",
    "        self.addState(state)\n",
    "        return True\n",
    "\n",
    "    def getState(self):\n",
    "        return self.__curState\n",
    "\n",
    "    def _setStateInfo(self, stateInfo):\n",
    "        self.__stateInfo = stateInfo\n",
    "        for state in self.__states:\n",
    "            if( state.isMatch(stateInfo) ):\n",
    "                self.changeState(state)\n",
    "\n",
    "    def _getStateInfo(self):\n",
    "        return self.__stateInfo\n",
    "\n",
    "\n",
    "class State:\n",
    "\n",
    "    def __init__(self, name):\n",
    "        self.__name = name\n",
    "\n",
    "    def getName(self):\n",
    "        return self.__name\n",
    "\n",
    "    def isMatch(self, stateInfo):\n",
    "        return False\n",
    "\n",
    "    @abstractmethod\n",
    "    def behavior(self, context):\n",
    "        pass"
   ]
  },
  {
   "cell_type": "code",
   "execution_count": 3,
   "metadata": {},
   "outputs": [],
   "source": [
    "class Water(Context):\n",
    "    \"\"\"(H2O)\"\"\"\n",
    "\n",
    "    def __init__(self):\n",
    "        super().__init__()\n",
    "        self.addState(SolidState(\"solid\"))\n",
    "        self.addState(LiquidState(\"liqued\"))\n",
    "        self.addState(GaseousState(\"gas\"))\n",
    "        self.setTemperature(25)\n",
    "\n",
    "    def getTemperature(self):\n",
    "        return self._getStateInfo()\n",
    "\n",
    "    def setTemperature(self, temperature):\n",
    "        self._setStateInfo(temperature)\n",
    "\n",
    "    def riseTemperature(self, step):\n",
    "        self.setTemperature(self.getTemperature() + step)\n",
    "\n",
    "    def reduceTemperature(self, step):\n",
    "        self.setTemperature(self.getTemperature() - step)\n",
    "\n",
    "    def behavior(self):\n",
    "        state = self.getState()\n",
    "        if(isinstance(state, State)):\n",
    "            state.behavior(self)\n",
    "\n",
    "\n",
    "def singleton(cls, *args, **kwargs):\n",
    "    instance = {}\n",
    "\n",
    "    def __singleton(*args, **kwargs):\n",
    "        if cls not in instance:\n",
    "            instance[cls] = cls(*args, **kwargs)\n",
    "        return instance[cls]\n",
    "\n",
    "    return __singleton\n",
    "\n",
    "\n",
    "@singleton\n",
    "class SolidState(State):\n",
    "\n",
    "    def __init__(self, name):\n",
    "        super().__init__(name)\n",
    "\n",
    "    def isMatch(self, stateInfo):\n",
    "        return stateInfo < 0\n",
    "\n",
    "    def behavior(self, context):\n",
    "        print(\"solid: \", context._getStateInfo())\n",
    "\n",
    "\n",
    "@singleton\n",
    "class LiquidState(State):\n",
    "\n",
    "    def __init__(self, name):\n",
    "        super().__init__(name)\n",
    "\n",
    "    def isMatch(self, stateInfo):\n",
    "        return (stateInfo >= 0 and stateInfo < 100)\n",
    "\n",
    "    def behavior(self, context):\n",
    "        print(\"liqued: \", context._getStateInfo())\n",
    "\n",
    "\n",
    "@singleton\n",
    "class GaseousState(State):\n",
    "\n",
    "    def __init__(self, name):\n",
    "        super().__init__(name)\n",
    "\n",
    "    def isMatch(self, stateInfo):\n",
    "        return stateInfo >= 100\n",
    "\n",
    "    def behavior(self, context):\n",
    "        print(\"gas: \", context._getStateInfo())\n"
   ]
  },
  {
   "cell_type": "code",
   "execution_count": 4,
   "metadata": {},
   "outputs": [
    {
     "name": "stdout",
     "output_type": "stream",
     "text": [
      "Init liqued\n",
      "liqued:  25\n",
      "from liqued change to solid\n",
      "solid:  -4\n",
      "from solid change to liqued\n",
      "liqued:  14\n",
      "from liqued change to gas\n",
      "gas:  124\n"
     ]
    }
   ],
   "source": [
    "def testState():\n",
    "    water = Water()\n",
    "    water.behavior()\n",
    "    water.setTemperature(-4)\n",
    "    water.behavior()\n",
    "    water.riseTemperature(18)\n",
    "    water.behavior()\n",
    "    water.riseTemperature(110)\n",
    "    water.behavior()\n",
    "\n",
    "\n",
    "testState()\n"
   ]
  }
 ],
 "metadata": {
  "kernelspec": {
   "display_name": "Python 3.9.12 ('base')",
   "language": "python",
   "name": "python3"
  },
  "language_info": {
   "codemirror_mode": {
    "name": "ipython",
    "version": 3
   },
   "file_extension": ".py",
   "mimetype": "text/x-python",
   "name": "python",
   "nbconvert_exporter": "python",
   "pygments_lexer": "ipython3",
   "version": "3.9.12"
  },
  "orig_nbformat": 4,
  "vscode": {
   "interpreter": {
    "hash": "40d3a090f54c6569ab1632332b64b2c03c39dcf918b08424e98f38b5ae0af88f"
   }
  }
 },
 "nbformat": 4,
 "nbformat_minor": 2
}
