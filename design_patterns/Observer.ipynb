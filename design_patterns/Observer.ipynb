{
 "cells": [
  {
   "cell_type": "markdown",
   "metadata": {},
   "source": [
    "## observer"
   ]
  },
  {
   "cell_type": "markdown",
   "metadata": {},
   "source": [
    "Define a one-to-many dependency between objects so that when one object changes state,all its dependents are notified and updated automatically."
   ]
  },
  {
   "cell_type": "code",
   "execution_count": 1,
   "metadata": {},
   "outputs": [],
   "source": [
    "from abc import ABCMeta, abstractclassmethod"
   ]
  },
  {
   "cell_type": "code",
   "execution_count": 17,
   "metadata": {},
   "outputs": [],
   "source": [
    "class Observer(metaclass=ABCMeta):\n",
    "    \n",
    "    @abstractclassmethod\n",
    "    def update(self,observable, object):\n",
    "        pass\n",
    "    \n",
    "\n",
    "class Observable:\n",
    "    \n",
    "    def __init__(self) -> None:\n",
    "        self.__observers = []\n",
    "        \n",
    "    def addObserver(self, observer):\n",
    "        self.__observers.append(observer)\n",
    "    \n",
    "    def removeObserver(self, observer):\n",
    "        self.__observers.remove(observer)\n",
    "        \n",
    "    def notifyObservers(self, object=0):\n",
    "        for o in self.__observers:\n",
    "            o.update(self, object)\n",
    "\n",
    "    "
   ]
  },
  {
   "cell_type": "markdown",
   "metadata": {},
   "source": [
    "example"
   ]
  },
  {
   "cell_type": "code",
   "execution_count": 18,
   "metadata": {},
   "outputs": [],
   "source": [
    "class WaterHeater(Observable):\n",
    "    def __init__(self) -> None:\n",
    "        super().__init__()\n",
    "        self.__temperature = 25\n",
    "    \n",
    "    def getTemperature(self):\n",
    "        return self.__temperature\n",
    "    \n",
    "    def setTemperature(self, temperature):\n",
    "        self.__temperature = temperature\n",
    "        print(\"now, temperature is {}\".format(self.__temperature))\n",
    "        self.notifyObservers()\n",
    "        \n",
    "        \n",
    "class WashingMode(Observer):\n",
    "    def update(self, observable, object):\n",
    "        if isinstance(observable, WaterHeater) and observable.getTemperature()>=50 and observable.getTemperature()<70:\n",
    "            print(\"wash\")\n",
    "            \n",
    "            \n",
    "class DrinkingMode(Observer):\n",
    "    def update(self, observable, object):\n",
    "        if isinstance(observable, WaterHeater) and observable.getTemperature()>=100:\n",
    "            print(\"Drink\")\n",
    "        "
   ]
  },
  {
   "cell_type": "code",
   "execution_count": 19,
   "metadata": {},
   "outputs": [
    {
     "name": "stdout",
     "output_type": "stream",
     "text": [
      "now, temperature is 40\n",
      "now, temperature is 60\n",
      "wash\n",
      "now, temperature is 100\n",
      "Drink\n"
     ]
    }
   ],
   "source": [
    "def testWaterHeater():\n",
    "    heater = WaterHeater()\n",
    "    washingObser = WashingMode()\n",
    "    drinkingObser = DrinkingMode()\n",
    "    heater.addObserver(washingObser)\n",
    "    heater.addObserver(drinkingObser)\n",
    "    heater.setTemperature(40)\n",
    "    heater.setTemperature(60)\n",
    "    heater.setTemperature(100)\n",
    "    \n",
    "testWaterHeater()"
   ]
  }
 ],
 "metadata": {
  "kernelspec": {
   "display_name": "Python 3.9.12 ('base')",
   "language": "python",
   "name": "python3"
  },
  "language_info": {
   "codemirror_mode": {
    "name": "ipython",
    "version": 3
   },
   "file_extension": ".py",
   "mimetype": "text/x-python",
   "name": "python",
   "nbconvert_exporter": "python",
   "pygments_lexer": "ipython3",
   "version": "3.9.12"
  },
  "orig_nbformat": 4,
  "vscode": {
   "interpreter": {
    "hash": "40d3a090f54c6569ab1632332b64b2c03c39dcf918b08424e98f38b5ae0af88f"
   }
  }
 },
 "nbformat": 4,
 "nbformat_minor": 2
}
